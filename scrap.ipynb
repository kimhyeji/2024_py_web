{
 "cells": [
  {
   "cell_type": "code",
   "execution_count": 12,
   "metadata": {},
   "outputs": [
    {
     "name": "stdout",
     "output_type": "stream",
     "text": [
      "[<a class=\"sister\" href=\"http://example.com/elsie\" id=\"link1\">Elsie</a>, <a class=\"sister\" href=\"http://example.com/lacie\" id=\"link2\">Lacie</a>, <a class=\"sister\" href=\"http://example.com/tillie\" id=\"link3\">Tillie</a>]\n",
      "<a class=\"sister\" href=\"http://example.com/elsie\" id=\"link1\">Elsie</a>\n",
      "Elsie\n",
      "http://example.com/lacie\n"
     ]
    }
   ],
   "source": [
    "import requests as req # requests 모듈 => 웹페이지를 요청하고 응답 데이터를 받을 수 있음.\n",
    "from bs4 import BeautifulSoup # BeautifulSoup => html 해석기\n",
    "\n",
    "request_headers = {'User-Agent': ('Mozilla/5.0 (Windows NT 10.0;Win64; x64)AppleWebKit/537.36 (KHTML, like Gecko) Chrome/71.0.3578.98Safari/537.36'), }\n",
    "\n",
    "# 특정 사이트에 페이지를 요청. 응답 데이터 반환\n",
    "response = req.get(\"https://www.naver.com/\", headers = request_headers)\n",
    "\n",
    "# print(response.text)\n",
    "\n",
    "html_doc = \"\"\"<html><head><title>The Dormouse's story</title></head>\n",
    "<body>\n",
    "<p class=\"title\"><b>The Dormouse's story</b></p>\n",
    "\n",
    "<p class=\"story\">Once upon a time there were three little sisters; and their names were\n",
    "<a href=\"http://example.com/elsie\" class=\"sister\" id=\"link1\">Elsie</a>,\n",
    "<a href=\"http://example.com/lacie\" class=\"sister\" id=\"link2\">Lacie</a> and\n",
    "<a href=\"http://example.com/tillie\" class=\"sister\" id=\"link3\">Tillie</a>;\n",
    "and they lived at the bottom of a well.</p>\n",
    "\n",
    "<p class=\"story\">...</p>\n",
    "\"\"\"\n",
    "# print(html_doc)\n",
    "\n",
    "# soup을 이용해서 html_doc 문자열을 파싱, 그 내용을 soup 변수로 대입\n",
    "soup = BeautifulSoup(html_doc, 'html.parser')\n",
    "alist = soup.select(\"a\")\n",
    "\n",
    "# 리스트 전체\n",
    "print(alist)\n",
    "\n",
    "# 리스트 인덱스\n",
    "print(alist[0])\n",
    "\n",
    "# 텍스트\n",
    "print(alist[0].text)\n",
    "\n",
    "# 속성명\n",
    "print(alist[1][\"href\"])\n",
    "\n",
    "# 태그 선택방법\n",
    "# 1. 태그 선택\n",
    "# 2. 후손 선택\n",
    "# 3. 자식 선택\n",
    "# 4. class 선택\n",
    "# 5. id 선택"
   ]
  },
  {
   "cell_type": "code",
   "execution_count": 18,
   "metadata": {},
   "outputs": [
    {
     "name": "stdout",
     "output_type": "stream",
     "text": [
      "[<p class=\"cjs_dept_desc\">'지천댐 성공' 인근 주민 설득 관건… 주민 \"아직 정보 부족\"</p>, <p class=\"cjs_dept_desc\">수능 D-100… \"의대 증원·역대급 N수생… 끝까지 긴장 놓지 말아야\"</p>, <p class=\"cjs_dept_desc\">[르포] 대청호 상류 집중호우로 '쓰레기 섬' 방불</p>, <p class=\"cjs_dept_desc\">[줌인]  대전 시민 입맛 사로잡은 北 실향민들의 '시원한 손맛'</p>, <p class=\"cjs_dept_desc\">[단독] KT, 업무용 전기차 지하주차장 사용 금지...SKT도 \"안전조치 검토 중\"</p>, <p class=\"cjs_dept_desc\">[단독] 현대트랜시스, 美 디트로이트에 시트 연구소 검토… 미국 ‘빅3’ 납품으로 현기차 의존도 줄인다</p>, <p class=\"cjs_dept_desc\">[단독] 사피온과 합병 리벨리온 박성현 대표 \"엔비디아보다 성능은 3배, 가격은 3분의1이 목표\"</p>, <p class=\"cjs_dept_desc\">안세영 \"핵심은 선수관리인데…떠넘기는 협회에 또 상처\"[올림픽]</p>, <p class=\"cjs_dept_desc\">金 2개 추가하면 역대 최고 성적…경쟁력 갖춘 후보도 많다 [올림픽]</p>, <p class=\"cjs_dept_desc\">'오륜기 문신' 소년의 꿈 이뤄질까…다이빙 우하람 출격 [올림픽]</p>, <p class=\"cjs_dept_desc\">초당 4만장 촬영 신기술, '0.005초' 차 金 주인공 가려냈다[올림픽]</p>, <p class=\"cjs_dept_desc\">이준석 “이재명은 돈 잘 쓰기로, 윤석열은 사람 잡아 가두기로 유명”</p>, <p class=\"cjs_dept_desc\">‘70억 집 등 재산 자랑’ 논란에…홍혜걸 “의사는 돈 벌면 안 되나?”</p>, <p class=\"cjs_dept_desc\">냉온탕 증시… “기술적 반등” vs “추가 하락” 예측불허</p>, <p class=\"cjs_dept_desc\">[단독] 임현택, 후보시절 변호사비 3000만원 의협회비로 지급… ‘유용’ 논란</p>, <p class=\"cjs_dept_desc\">세계 9개밖에 없는 RTC… GS건설 고난도 기술력 빛났다 [연중기획-'K건설' 해외수주 1조弗 시대로]</p>, <p class=\"cjs_dept_desc\">닿지 않는 물·그늘·휴식…폭염에도 '쉴 권리' 그림의 떡 [심층기획-폭염 속 '작업 중지권' 강화 논란 가열]</p>, <p class=\"cjs_dept_desc\">사우디 10년 전 법제화… 작업 중지 시간까지 정해놔 [심층기획-폭염 속 '작업 중지권' 강화 논란 가열]</p>, <p class=\"cjs_dept_desc\">채소 키우는 ‘도넛틀’… 땅에서 키우는 것보다 30배 효율 [심층기획-농촌 살리는 청년]</p>, <p class=\"cjs_dept_desc\">美도 블랙먼데이, 매그니피센트7 시총 하루만에 891조 날아갔다</p>, <p class=\"cjs_dept_desc\">\"비이성적인 폭락장\"… 증권사도 투자자도 집단 패닉 [블랙먼데이 쇼크]</p>, <p class=\"cjs_dept_desc\">\"경기 피기도 전에 꺾일라\"… 미국發 R공포에 '정책 딜레마' [블랙먼데이 쇼크]</p>, <p class=\"cjs_dept_desc\">증시 최악의 하루... 시총 235조 증발 [블랙먼데이 쇼크]</p>, <p class=\"cjs_dept_desc\">[기획] 수천억 집어삼킨 `위메프·티몬사태`</p>, <p class=\"cjs_dept_desc\">[위메프·티몬 사태] 대안 없는 확장에 1세대 토종 이커머스 몰락</p>, <p class=\"cjs_dept_desc\">[위메프·티몬 사태] 여름휴가 어쩌나… 소비자 집단 패닉</p>, <p class=\"cjs_dept_desc\">[위메프·티몬 사태] `제2머지사태` 은행대출·카드결제 중단</p>, <p class=\"cjs_dept_desc\">[푸드테크 뜬다]⑦ \"영양구조 분석해 짠맛 대체재 찾아…맛·건강 동시에 잡는다\"</p>, <p class=\"cjs_dept_desc\">[푸드테크 뜬다]⑥ 씹지 않아도 되는 고기에 분말 죽까지…'고령친화식품'의 변신</p>, <p class=\"cjs_dept_desc\">[푸드테크 뜬다]⑤ 미생물로 만든 대체단백질, 우주식량으로도 쓰인다</p>, <p class=\"cjs_dept_desc\">[푸드테크 뜬다]④ 육류와 근접 '식물성 대체육' 우려되는 조류독감도 예방</p>, <p class=\"cjs_dept_desc\">안세영 \"떠넘기는 협회, 감독님 기사에 또 상처…은퇴 곡해 말길\"</p>, <p class=\"cjs_dept_desc\">지하철 무인점포·취객에 접근하더니…경찰, '부축빼기' 등 63명 검거</p>, <p class=\"cjs_dept_desc\">[백브RE핑] 100억원에 팔린 DJ사저…\"김대중 문패, 커피가게 장식물로 내버려 둘 거냐\"</p>, <p class=\"cjs_dept_desc\">'16조 규모' 미술시장 중국서 팔리는 한국 작품...알고 보니 몰래 베낀 '짝퉁'? [이도성의 안물알중]</p>, <p class=\"cjs_dept_desc\">'첫 여성대통령' 강조 않는 해리스..\"힐러리서 교훈\"</p>, <p class=\"cjs_dept_desc\">\"증시 조정 길어진다\"...폭락장 예견한 전문가의 경고</p>, <p class=\"cjs_dept_desc\">전세계 무슬림 7일 긴급회의…\"이란이 요청\"</p>, <p class=\"cjs_dept_desc\">뉴욕증시, 2년만에 최대 폭락…나스닥 3.4%↓ [출근 전 꼭 글로벌 브리핑]</p>, <p class=\"cjs_dept_desc\">[토크ON] ① 서이초 사건 1년…학교 현장, 어떻게 바뀌었나?</p>, <p class=\"cjs_dept_desc\">[약손+] ‘방심하면 망가진다’ 콩팥병 바로 알기 ⑨노화가 만성 콩팥병에 미치는 영향</p>, <p class=\"cjs_dept_desc\">[뉴스ON] '강제' 빠진 사도광산, 굴종 외교인가? 외교 성과인가?</p>, <p class=\"cjs_dept_desc\">[백투더투데이] \"대구는 섬유 도시? 미녀 도시?\" 1989년 대구의 패션</p>, <p class=\"cjs_dept_desc\">\"상테크 불안했다\" 티몬·위메프의 수상했던 6개월[티메프 사태, 이커머스 포비아①]</p>, <p class=\"cjs_dept_desc\">사라진 1조원…누가 죄인인가[티메프 사태, 이커머스 포비아②]</p>, <p class=\"cjs_dept_desc\">'이커머스 신화'에서 '양치기(?)'로 전락한 구영배[티메프 사태, 이커머스 포비아③]</p>, <p class=\"cjs_dept_desc\">\"피자 대신 경찰 도착\" 공중전화로 허위주문 중 경찰 만난  30대</p>, <p class=\"cjs_dept_desc\">이 나이에, 혼자 한 달 ‘130’·부부 ‘200’ 넘어도 “겨우 입에 풀칠할 정도인데”.. 도대체 ‘40’도 안되는 돈으로 어찌 살라고?</p>, <p class=\"cjs_dept_desc\">덥고 습한 날씨에 '독버섯' 쑥쑥..\"먹지 마세요. 자연에 양보하세요\"</p>, <p class=\"cjs_dept_desc\">[문화가중계] 시간이 흐를수록 깊어지는 자연의 빛깔</p>, <p class=\"cjs_dept_desc\">작심한 안세영 \"양궁 부럽다‥은퇴로 곡해 말라\" 또 직격</p>, <p class=\"cjs_dept_desc\">中 선수 손에 스페인 배지? 의리 지킨 허빙자오 '박수'</p>, <p class=\"cjs_dept_desc\">하루 만에 급등 '매수' 사이드카‥\"대응역량 충분\"</p>, <p class=\"cjs_dept_desc\">\"일반상품, 이번 주 중 환불‥5천억 유동성 지원\"</p>, <p class=\"cjs_dept_desc\">폭염에 공터 나가 쓰레기 청소 인증···“더운데 대단하다”</p>, <p class=\"cjs_dept_desc\">고양시청사 이전 법원판결 두고 시-시의회 '아전인수'</p>, <p class=\"cjs_dept_desc\">집 나간 청소년 ‘가출팸’… 생계형 범죄 ‘무방비 노출’</p>, <p class=\"cjs_dept_desc\">'금메달' 안세영, 작심발언…“대표팀에 실망했다\" [파리 올림픽]</p>, <p class=\"cjs_dept_desc\">외국인 피서객 급증… 글로벌 ‘핫플’된 부산 해수욕장</p>, <p class=\"cjs_dept_desc\">“형제복지원 국가배상 판결 잇단 항소는 책임 회피”</p>, <p class=\"cjs_dept_desc\">밀양시, 민간 공단에 도로 포함 ‘특혜’ 논란</p>, <p class=\"cjs_dept_desc\">시, 아파트 규모 축소 구덕운동장 대안 제시</p>, <p class=\"cjs_dept_desc\">적자나도 할인쿠폰 남발…'거래 부풀리기' 집착하다 참사</p>, <p class=\"cjs_dept_desc\">'초저가 괴물' 잡으려다가…속수무책 당했다 '한국 초토화'</p>, <p class=\"cjs_dept_desc\">'e커머스 거품' 또 터질라…오픈마켓 외면하는 투자자들</p>, <p class=\"cjs_dept_desc\">거래액 거품 꺼지는 '오픈마켓' 생사기로</p>, <p class=\"cjs_dept_desc\">“정녕 이 동영상을 제가 만들었단 말입니까?”</p>, <p class=\"cjs_dept_desc\">AI에게 한국 수능을 풀게 했다, 결과는?</p>, <p class=\"cjs_dept_desc\">30년차 엔지니어가 들려준 ‘AI 혁신의 여정’</p>, <p class=\"cjs_dept_desc\">AI에게 맡기지 마라, 세계가 퇴화할 것이니</p>, <p class=\"cjs_dept_desc\">SKT, 2분기 영업익 5375억원...\"데이터센터 산업 매출 20.5% 성장\"(종합)</p>, <p class=\"cjs_dept_desc\">데브시스터즈 2분기 영업익 49억원…흑자 전환</p>, <p class=\"cjs_dept_desc\">[종합] NHN, 경영효율화·핵심 사업 성장…2분기 성장세 지속</p>, <p class=\"cjs_dept_desc\">[종합] 엔씨, 적자 전망 뒤집고 2분기 흑자 지속…하반기 신작 러시</p>, <p class=\"cjs_dept_desc\">'블랙먼데이' 증시 급락…금융당국 \"낙폭 과도·불안심리 확산 경계\"</p>, <p class=\"cjs_dept_desc\">금융위기 이후 최악…\"패닉 속 저점 예측 의미없어\"</p>, <p class=\"cjs_dept_desc\">'서킷브레이커' 발동했어도 코스피·코스닥 와르르</p>, <p class=\"cjs_dept_desc\">자산배분으로 연금 불리기 TDF ETF 주목</p>, <p class=\"cjs_dept_desc\">저가형 전기차로 ‘캐즘’ 돌파한다… EV3·캐스퍼 일렉트릭 흥행몰이</p>, <p class=\"cjs_dept_desc\">[영상] “방산株 성격 가진 조선株, 누가 미국 대통령 되든 긍정적”</p>, <p class=\"cjs_dept_desc\">거스를 수 없는 대세 클라우드化,  ‘에러 대책’도 함께 제시해야</p>, <p class=\"cjs_dept_desc\">[한양증권 M&amp;A] '강성부 펀드' KCGI, '성공적 투자' 평가받을 수 있을까 [넘버스]</p>, <p class=\"cjs_dept_desc\">[한양증권 M&amp;A] 우선협상대상자 선정된 KCGI, '고용승계' 강조하는 까닭은</p>, <p class=\"cjs_dept_desc\">[한양증권 M&amp;A] 2449억원 써낸 KCGI, 우선협상대상자 선정</p>, <p class=\"cjs_dept_desc\">[한양증권 M&amp;A] 강성부의 KCGI는 대어를 낚을수 있을까</p>, <p class=\"cjs_dept_desc\">토마토, 그 빨간 치명적인 맛.... 200년간 외면받은 한(恨)의 식물 [일상이 뉴스다]</p>, <p class=\"cjs_dept_desc\">우리 아이 키 커지는 한의학적 꿀팁</p>, <p class=\"cjs_dept_desc\">[정승조의 아트홀릭] \"팝아트 거인(巨人)이 우주를 탐닉한 진짜 이유\"</p>, <p class=\"cjs_dept_desc\">[건강플러스] 일사병(중서; 中暑)과 냉방병(서풍; 暑風)</p>, <p class=\"cjs_dept_desc\">환율·금리 어디로[금융시장 긴급진단③]</p>, <p class=\"cjs_dept_desc\">코스닥, 바닥은 어디[금융시장 긴급진단②]</p>, <p class=\"cjs_dept_desc\">\"이렇게 빠질 수 있나\"…코스피, 추락 멈출까[금융시장 긴급진단①]</p>, <p class=\"cjs_dept_desc\">[영상] “대한항공 기내식, 사람, 다 천장으로 튀어올라”…난기류 공포</p>, <p class=\"cjs_dept_desc\">15초 강한 난기류…몽골행 대한항공 승객·승무원 10여명 부상</p>, <p class=\"cjs_dept_desc\">싱가포르항공 난기류 사고 6명 위독…척추 부상자만 20명 넘어</p>, <p class=\"cjs_dept_desc\">카타르 여객기도 난기류에 12명 부상…“기내식 받던 약 20초간”</p>, <p class=\"cjs_dept_desc\">당정 “티몬·위메프 일반 상품, 이번 주 환불 완료 지원”</p>, <p class=\"cjs_dept_desc\">필리핀 가사관리사 100명 입국…“한국 좋아서 선택”</p>, <p class=\"cjs_dept_desc\">폭우에 차량 잠기고 열대야 속 정전 피해</p>, <p class=\"cjs_dept_desc\">폭염과의 사투…살수차 운행에 보약 제공까지</p>, <p class=\"cjs_dept_desc\">與, 내일 '티메프 사태' 당정협의회…재발 방지책 논의한다</p>, <p class=\"cjs_dept_desc\">'티메프 대란' 카드-PG사 책임 공방에…소비자 '불쾌지수' 고조</p>, <p class=\"cjs_dept_desc\">경찰 \"티메프 관련 고소·진정 12건 접수…검찰과도 협의할 것\"</p>, <p class=\"cjs_dept_desc\">정치권으로 옮겨간 해피머니 '불똥'…금융당국 '촉각'</p>, <p class=\"cjs_dept_desc\">“24시간 당직에도 수당 없다”…아동학대 전담공무원을 아십니까</p>, <p class=\"cjs_dept_desc\">대출금 갚지못한 '영끌족' … 경매 넘어간 부동산 9년 6개월만에 최대</p>, <p class=\"cjs_dept_desc\">동해안 점령한 해파리떼…어민 ‘한숨’ 피서객 ‘울상’</p>, <p class=\"cjs_dept_desc\">무더위 피해 시원한 평창으로 온가족 미식 여행 떠나볼까?</p>, <p class=\"cjs_dept_desc\">[정치톡톡] \"친윤 여론전 때문\" / \"하나회 주장은 다양성\" / \"이재명에 심각한 시그널\"</p>, <p class=\"cjs_dept_desc\">[뉴스추적] '블랙먼데이' 코로나 때보다 더 추락…금리 인하 빨라지나</p>, <p class=\"cjs_dept_desc\">'따릉이 폭주족' 집결 예고에 경찰 \"엄중 단속\" - 김명준의 뉴스파이터</p>, <p class=\"cjs_dept_desc\">\"지금이 기회\" 부자아빠 기요사키, 폭락장 매수 강조한 이유</p>, <p class=\"cjs_dept_desc\">\"나라 망하나\" VS \"지금 사야\"... 코스피 장중 2400 붕괴</p>, <p class=\"cjs_dept_desc\">\"비트코인, 8000만원 깨졌다\" 미 대선 전 지금이 투자 적기?</p>, <p class=\"cjs_dept_desc\">\"동탄 로또 터졌다\"... 롯데캐슬 청약에 300만 명, 역대 최고</p>, <p class=\"cjs_dept_desc\">DMZ에서 한반도 ‘분단’과 ‘휴전’ 불편한 진실 일깨우다</p>, <p class=\"cjs_dept_desc\">[르포] ‘전기차 메카’ 육성 12년, 제주를 가다</p>, <p class=\"cjs_dept_desc\">‘잠·삼·대·청’(잠실, 삼성, 대치, 청담) 묶은 토허제가 반포 독주시대 열었다</p>, <p class=\"cjs_dept_desc\">9일부터 티메프 피해기업에 긴급자금 지원…최대 30억원 한도</p>, <p class=\"cjs_dept_desc\">이커머스 정산기한 단축…판매대금 별도관리 의무화(종합2보)</p>, <p class=\"cjs_dept_desc\">한총리, 티메프 사태에 \"피해 최소화 총력…재발방지책도 강구\"</p>, <p class=\"cjs_dept_desc\">서울시, '티메프' 피해 소상공인에 긴급자금 수혈…신청 간소화</p>, <p class=\"cjs_dept_desc\">파리바게뜨·뚜레쥬르 얼마나 더 생길까…달라진 빵집 규제 보니</p>, <p class=\"cjs_dept_desc\">연돈 불똥에 빵집 규제까지…'줄악재' 백종원 더본코리아 상장 연기</p>, <p class=\"cjs_dept_desc\">대기업 빵집 규제 5년 연장…'빽다방 빵연구소' 새로 포함</p>, <p class=\"cjs_dept_desc\">AI 뺑뺑이에 고객들 ‘분통’, 상담원은 ‘곡소리’[뺑뺑이 AI콜센터]①</p>, <p class=\"cjs_dept_desc\">[단독]AI에 수천억 썼지만…\"상담 만족도 20% 그쳐\"[뺑뺑이 AI콜센터]②</p>, <p class=\"cjs_dept_desc\">30·40대 절반 “AI상담 불편해 경쟁사 옮길것”[뺑뺑이 AI콜센터]③</p>, <p class=\"cjs_dept_desc\">\"진보된 AI보다 '빠른 인간상담원 연결' 원해\"[뺑뺑이 AI콜센터]④</p>, <p class=\"cjs_dept_desc\">'감춰진 피해자들' 미성년 친족성폭력 피해자 10명 중 8명 13세 이하…가해자 58%가 친부</p>, <p class=\"cjs_dept_desc\">[친족 성폭력, 그 이후의 삶]  가족에서 벗어난 아이들은 서로를 보듬는다</p>, <p class=\"cjs_dept_desc\">[친족 성폭력, 그 이후의 삶] 자립수당 못 받는 친족성폭력 피해자, ‘홀로서기’ 지원해야</p>, <p class=\"cjs_dept_desc\">\"윤석열 명예 때문에 3000명 통신조회? 민간인 사찰\"</p>, <p class=\"cjs_dept_desc\">'윤 대통령 명예훼손' 통신기록 전방위 조회...\"불법적 정치사찰\"</p>, <p class=\"cjs_dept_desc\">[오마이포토] \"검찰의 무차별적 통신 이용자 조회, 사태 장본인은 윤석열 대통령\"</p>, <p class=\"cjs_dept_desc\">'폐지 어렵다'던 다음날, 윤석열 \"공수처 존폐 검토해야\"</p>, <p class=\"cjs_dept_desc\">[사설] 공포 닥친 블랙 먼데이…증시 충격, 실물 전이 막아야</p>, <p class=\"cjs_dept_desc\">[송호근의 세사필담] 20세기에 이런 나라가 없었다</p>, <p class=\"cjs_dept_desc\">[서경호의 시시각각] 스미스씨가 여의도에 갔다면</p>, <p class=\"cjs_dept_desc\">[시론] 1만원 시대에 수술 필요한 최저임금제도</p>, <p class=\"cjs_dept_desc\">지하주차장 전기차 충전기 '안전 법제'도 없다 [視리즈]</p>, <p class=\"cjs_dept_desc\">워런 버핏이 애플 대신 미 석유회사 선택한 까닭 [마켓톡톡]</p>, <p class=\"cjs_dept_desc\">\"순이익 35% 줄었지만 현금 더 쌓았다\" 법인세 인하론의 허상</p>, <p class=\"cjs_dept_desc\">\"온종일 해도 몇백원\" 재주는 소비자가 부리고 돈은 앱이 버네</p>, <p class=\"cjs_dept_desc\">수학 취약 부분 개념학습…영어 빈칸·문장삽입 대비를</p>, <p class=\"cjs_dept_desc\">식중독 비상…배달음식 2시간내 먹고 냉장고 용량 70% 이하만 채워야</p>, <p class=\"cjs_dept_desc\">[강병령의 한방 이야기] 여름철 보약은 허사? 1년 건강을 좌우</p>, <p class=\"cjs_dept_desc\">[수장고에서 찾아낸 유물이야기] &lt;111&gt; 이덕성 초상</p>, <p class=\"cjs_dept_desc\">Overachieving S. Koreans aim for more Olympic gold</p>, <p class=\"cjs_dept_desc\">Extreme heat triggers outages, heatstroke deaths</p>, <p class=\"cjs_dept_desc\">JYP launches new subsidiary Innit</p>, <p class=\"cjs_dept_desc\">1500명 먹이는 학교에 정수기 없는 급식실…그들이 찬물 먹는 방법</p>, <p class=\"cjs_dept_desc\">여사들이 학교급식실을 떠난다</p>, <p class=\"cjs_dept_desc\">급식실 고강도 노동 8시간, 어느덧 손이 덜덜 떨려왔다</p>, <p class=\"cjs_dept_desc\">대안은 조리로봇? 10억원이면 스마트식세기 쓸 수 있는데…</p>, <p class=\"cjs_dept_desc\">해리스 도전 받는 트럼프노믹스</p>, <p class=\"cjs_dept_desc\">관세 폭탄 땐 ‘트럼플레이션’ 쓰나미</p>, <p class=\"cjs_dept_desc\">국내외 트럼프 수혜주…보호무역에 국내 조선·바이오 ‘땡큐’</p>, <p class=\"cjs_dept_desc\">트럼프 2기 정책은 ‘애니씽 벗 바이든’</p>, <p class=\"cjs_dept_desc\">'어대명' 전당대회 흥행 실패? \"사법리스크, 무리한 일정\"..\"최고위원 선거는 흥행 중\" [박영환의 시사1번지]</p>, <p class=\"cjs_dept_desc\">국민의힘 정점식 사퇴에 김상훈 내정 \"대통령과 당대표 함께 살기 위한 결단\"[박영환의 시사1번지]</p>, <p class=\"cjs_dept_desc\">\"김건희 '황후조사'..대통령·영부인, 언론 불신·피해의식\" [와이드이슈]</p>, <p class=\"cjs_dept_desc\">\"民 친명계? 이재명 노선에 대해선 충성..공통가치 집단은 아냐\" [와이드이슈]</p>, <p class=\"cjs_dept_desc\">[파리올림픽] 한국 여자탁구, 브라질 꺾고 단체전 8강 진출</p>, <p class=\"cjs_dept_desc\">여자 골프 내일 티샷…국대 3인방 \"금은동 메달 하나씩\"</p>, <p class=\"cjs_dept_desc\">소수정예 한국 '두 자릿수' 금메달</p>, <p class=\"cjs_dept_desc\">[속보] 조영재, 25ｍ 속사권총 은메달…한국 사격 역대 최다 메달</p>, <p class=\"cjs_dept_desc\">무더위엔 수박인데…’이렇게’ 보관하면 세균 수 3000배 늘어</p>, <p class=\"cjs_dept_desc\">[이성주의 건강편지]'유네스코 세계 인물' 정약용의 뇌기능 살리는 비법</p>, <p class=\"cjs_dept_desc\">마라토너부터 사이클 선수까지...운동선수들의 무릎 통증 관리법</p>, <p class=\"cjs_dept_desc\">“호텔서 집단성관계”…명문대 ‘마약동아리’, 버닝썬급 충격 범행</p>, <p class=\"cjs_dept_desc\">'마약 동아리' 조직한 재학생.. KAIST 입장은</p>, <p class=\"cjs_dept_desc\">`마약 동아리` 만든 카이스트 대학원생…호화 술자리로 대학생 유혹(종합)</p>, <p class=\"cjs_dept_desc\">\"다 같이 잘 되자, 화이팅!\"...'마약 동아리' 명문대생들 대화 보니</p>, <p class=\"cjs_dept_desc\">당정, 티메프 피해구제 이번주 중 환불 완료 지원…“이커머스 근본적 제도 개선 필요 공감”</p>, <p class=\"cjs_dept_desc\">정부, 이커머스 정산기한 도입…판매대금 별도관리 의무화</p>, <p class=\"cjs_dept_desc\">‘티몬·위메프 사태’ 칼끝 겨누는 검·경찰…압수수색·수사 진행 중</p>, <p class=\"cjs_dept_desc\">[트렌D] 구영배의 티몬·위메프 통합 ‘K-커머스’, 현실 가능성은</p>, <p class=\"cjs_dept_desc\">[취재파일] 시간 달라는 구영배 대표…혁신가일까, 사기꾼일까.</p>, <p class=\"cjs_dept_desc\">샘 올트먼은 왜 기본소득에 집착할까? [취재파일]</p>, <p class=\"cjs_dept_desc\">KDDX 도덕성 이슈에서 방사청이 눈 감은 것들 [취재파일]</p>, <p class=\"cjs_dept_desc\">[취재파일] \"특혜 준 사람만 문제\"…권익위 의결에서 빼먹은 것들</p>, <p class=\"cjs_dept_desc\">[세계를 보다]간첩 범위 넓히는 세계…북한만 노린 한국</p>, <p class=\"cjs_dept_desc\">[사건현장 360]적적해 갔던 ‘홍보관’…수백만 원 ‘덜컥’ 결제</p>, <p class=\"cjs_dept_desc\">[아는기자]22대 국회 65일 무한대치…누구 책임?</p>, <p class=\"cjs_dept_desc\">[현장 카메라]관광객에 ‘몸살’…북촌한옥마을 떠나는 주민들</p>, <p class=\"cjs_dept_desc\">[똑똑한 증여] 아빠에게 빌린 돈 2억1700만원 이자는?… 차용증 꼭 챙겨야</p>, <p class=\"cjs_dept_desc\">[똑똑한 증여] 결혼 앞두고 양가 부모가 준 3억… 세금 안 내는 방법 있다</p>, <p class=\"cjs_dept_desc\">[똑똑한 증여] 20억 아파트, 자녀에게 17억에 팔면 증여세 ‘0원’</p>, <p class=\"cjs_dept_desc\">[똑똑한 증여] 10억 아들 대신 손주 줬더니 7800만원 절세… 日, 세대생략 증여 장려</p>, <p class=\"cjs_dept_desc\">[자막뉴스] 강이 된 도로, 고무보트로 '긴급 대피'...美 도시 '비상사태'</p>, <p class=\"cjs_dept_desc\">[자막뉴스] 텅 빈 내부, 답 없는 행복주택...청약 신청자 \"어쩌란 건지\"</p>, <p class=\"cjs_dept_desc\">[자막뉴스] 바닥에 널브러진 음식들...난기류 맞닥뜨린 대한항공 당시 영상</p>, <p class=\"cjs_dept_desc\">[자막뉴스] 중국 44℃ 폭염 속 퍼레이드 강행...디즈니랜드 인형탈 졸도</p>, <p class=\"cjs_dept_desc\">‘매력 없는 외모’ 여성 수명 짧다고?…못생긴 것도 억울한데</p>, <p class=\"cjs_dept_desc\">[맛있는 이야기] 조상들 겨울에 즐겼다지만…그래도 여름이 제철 ‘냉면’</p>, <p class=\"cjs_dept_desc\">국내산 헤어드라이어, 인체보호기준 초과하는 전자파 나와</p>, <p class=\"cjs_dept_desc\">KAIST·SKY 명문대생들 마약 투약·유통혐의로 적발</p>, <p class=\"cjs_dept_desc\">'옆집 친구'에 경제적 강압 꺼내든 일본…공격하고 보니 한국은 '큰손' 이었다</p>, <p class=\"cjs_dept_desc\">엔진 받아 쓰던 한국차 이젠 日부품 1%…100년 버틴 일본 유통망 뚫은 소주</p>, <p class=\"cjs_dept_desc\">\"애들이 일본 아니면 가족여행 안 간대요\"...한일관계 신인류 Z세대</p>, <p class=\"cjs_dept_desc\">[김대호 박사의 오늘 기업·사람] 엔비디아·TSMC·애플·삼성전자·SK하이닉스</p>, <p class=\"cjs_dept_desc\">[김대호 박사의 오늘의 키워드] 패닉 공황발작·PMI 부활·엔캐리 폭탄·구글 독점 철퇴·FOMC 긴급회의</p>, <p class=\"cjs_dept_desc\">[증시전략] 뉴욕증시도 '블랙 먼데이'…3대 지수 줄줄이 폭락</p>, <p class=\"cjs_dept_desc\">[트렌딩 핫스톡] 반도체 관련주, 'R의 공포'에 매도세 촉발되자 줄줄이 하락</p>, <p class=\"cjs_dept_desc\">“대공황급 공포”… 코스피 사상 최대 폭락</p>, <p class=\"cjs_dept_desc\">서학개미 손절 못했다… 美주식 주간거래 주문 ‘일괄 취소’</p>, <p class=\"cjs_dept_desc\">R의 공포에 엔고 쇼크… 日 증시 12% ↓ ‘슈퍼 블랙먼데이’</p>, <p class=\"cjs_dept_desc\">[단독] 軍, 핵추진잠수함용 '소형원자로' 만든다…20% 이하 '저농축 우라늄'으로 국제 제재 피해</p>, <p class=\"cjs_dept_desc\">[따져보니] 무더기 통신 조회 논란…문제점은?</p>, <p class=\"cjs_dept_desc\">[단독] \"고혈압·당뇨 김정은, '사향노루' 채취 성분 링거 투약\"…금값의 3배</p>, <p class=\"cjs_dept_desc\">[뉴스야?!] 또 다시 기본소득?</p>, <p class=\"cjs_dept_desc\">스마트폰은 끊는 게 답?… 얼마나 의존하는지 자가진단이 첫걸음 [안녕, 스마트폰]</p>, <p class=\"cjs_dept_desc\">화면 밖 ‘일상’ 찾기… 폰을 가두고 ‘나의 해방일지’를 채웠다 [안녕, 스마트폰]</p>, <p class=\"cjs_dept_desc\">범상치 않은 ‘멍한 뇌’… 앱을 지우자 전두엽이 깨기 시작했다 [안녕, 스마트폰]</p>, <p class=\"cjs_dept_desc\">‘고수 향’ 향수 출시… 좋아하는 사람 있을까?</p>, <p class=\"cjs_dept_desc\">팬케이크, 포장지에 나온 사진처럼 ‘도톰하고 예쁘게’ 만드는 방법</p>, <p class=\"cjs_dept_desc\">발 헛디뎠다고 이렇게까지? 81일 혼수상태 빠진 호주 女… 자세한 내막 보니</p>, <p class=\"cjs_dept_desc\">[유미's 픽] '마하'로 의기투합 한 네이버-삼성…양산 시점은 언제?</p>, <p class=\"cjs_dept_desc\">[유미's 픽] 日 공략 나선 더존비즈온, 'AWS 효과' 볼까</p>, <p class=\"cjs_dept_desc\">[유미's 픽] 삼성SDS-엔비디아 '밀월 관계' 이 정도?…자체 행사 키노트 연사에 '주목'</p>, <p class=\"cjs_dept_desc\">보성 앞 바다서 소형 어선 전복…승선원 2명 중 1명 숨져</p>, <p class=\"cjs_dept_desc\">무더위에 보성 갯벌 조사하던 연구원 2명 고립…해경, 무사히 구조</p>, <p class=\"cjs_dept_desc\">경기도, 고양시에 말라리아 경보…파주·김포 이어 세번째</p>, <p class=\"cjs_dept_desc\">국회 찾은 티메프 피해 판매자들 \"구영배 구속 수사 촉구\" [TF사진관]</p>, <p class=\"cjs_dept_desc\">코스피 급등...'4년 2개월 만에 매수 사이드카 발동' [TF사진관]</p>, <p class=\"cjs_dept_desc\">한동훈 취임 후 첫 당정협의...'위메프·티몬 사태 논의' [TF사진관]</p>, <p class=\"cjs_dept_desc\">이정식 장관, 노란봉투법 거부권 건의 시사… '동의할 수 없어' [TF사진관]</p>, <p class=\"cjs_dept_desc\">증시 폭락 충격 벗어났나…코스피 5%대, 코스닥 6%대 상승 [오전 시황]</p>, <p class=\"cjs_dept_desc\">[주식 초고수는 지금] SK하이닉스 살 때는 지금?…이틀째 순매수 1위</p>, <p class=\"cjs_dept_desc\">전일 역대급 폭락에도 상한가 기록한 '이 종목'… \"업계 최초 성과\"</p>, <p class=\"cjs_dept_desc\">7월까지 농식품 수출액 7.8조 육박…라면 34%↑</p>, <p class=\"cjs_dept_desc\">안세영 폭로에 정치권도…“권력보다 선수 대변하는 협회 돼야”</p>, <p class=\"cjs_dept_desc\">이용대 억울한 징계, 정경은 국대 좌절...안세영 폭로, 이유 있었다</p>, <p class=\"cjs_dept_desc\">BOJ를 향한 동학개미의 울분…韓·日 증시 뒤흔든 ‘엔캐리트레이드’가 뭐길래 [투자360]</p>, <p class=\"cjs_dept_desc\">미인은 잠꾸러기라더니…‘낮잠 루틴’으로 금메달 딴 선수[파리2024]</p>, <p class=\"cjs_dept_desc\">티메프 여행상품 환불 보류에…피해자들 구제 촉구</p>, <p class=\"cjs_dept_desc\">티메프 사태 키운 '상품권'…사실상 규제 없어</p>, <p class=\"cjs_dept_desc\">티메프 '자율 구조조정' 성공할까…채권자협의회 구성 험로 전망</p>, <p class=\"cjs_dept_desc\">KB·하나·한화 이어 우리도 참전...자산운용사 ETF 160조 시장 경쟁 가속</p>, <p class=\"cjs_dept_desc\">국민·우리은행, 주담대 금리 또 올린다…“가계대출 증가세 대응”</p>, <p class=\"cjs_dept_desc\">우리은행, 수출 중소·중견기업에 대출 금리 0.5% 우대</p>, <p class=\"cjs_dept_desc\">외국인 매도폭탄에 와르르 …\"과도한 폭락, 이번주 반등 가능\"</p>, <p class=\"cjs_dept_desc\">월가 \"빅컷으로 투매공포 차단을\"… 일각선 \"침체 위험 제한적\"</p>, <p class=\"cjs_dept_desc\">美침체·AI거품·엔캐리…亞증시 도미노 붕괴</p>, <p class=\"cjs_dept_desc\">최악 증시 급락에도 정부 \"일시적 침체\"</p>, <p class=\"cjs_dept_desc\">오른팔 없는 탁구 선수, 졌지만 ‘인간 승리’···박수 쏟아졌다[파리는 지금]</p>, <p class=\"cjs_dept_desc\">이은혜의 혹독했던 데뷔전 “올림픽은 확실히 다르네요”[올림픽x인터뷰]</p>, <p class=\"cjs_dept_desc\">셀카 찍고, 응원 보내고…북한 선수단 ‘미묘한 변화’</p>, <p class=\"cjs_dept_desc\">여자 복싱 첫 메달 딴 임애지 “4년 뒤 LA에선 기필코 금…코치님, 함께할 거죠?”</p>, <p class=\"cjs_dept_desc\">한국-대만은 왜 동반 폭락했나... 그 뒤엔 ‘반도체 중심’ 경제</p>, <p class=\"cjs_dept_desc\">삼성전자, 단 0.65㎜ 업계 최소 두께 초박형 LPDDR5X D램 양산</p>, <p class=\"cjs_dept_desc\">‘흥행작 부재’ 디즈니플러스 하락세… 티빙은 국산 OTT 1위 굳히기</p>, <p class=\"cjs_dept_desc\">서울 아파트 원정 투자 3년 6개월 만에 최대</p>, <p class=\"cjs_dept_desc\">전북대 해킹에 털렸다.. \"32만 명 개인정보 유출\"</p>, <p class=\"cjs_dept_desc\">피해자는 뒷전.. 전북대, 파장 축소에만 급급</p>, <p class=\"cjs_dept_desc\">전북대 정보 유출 피해 상담 977건.. \"2차 피해 예방책 안내\"</p>, <p class=\"cjs_dept_desc\">전북대, 정보 유출 광범위.. \"2차 피해 막아야\"</p>, <p class=\"cjs_dept_desc\">[단독]경무관 감찰 면죄부였나…불신 자초한 경찰</p>, <p class=\"cjs_dept_desc\">[단독]구영배, 큐익스프레스 상장 위해 정부기관까지 활용</p>, <p class=\"cjs_dept_desc\">수출은 호황인데 서민은 고달프다[베이징노트]</p>, <p class=\"cjs_dept_desc\">[화보]벌채·숲가꾸기 그리고 활용…기사로 못 담아낸 '숲'</p>, <p class=\"cjs_dept_desc\">소비·투자 곳곳 침체 신호…美 ‘9월 빅스텝’ 한국도 따라가나</p>, <p class=\"cjs_dept_desc\">당국 주식 폭락 관련 긴급 점검…“지나친 공포감 자제, 24시간 모니터링 강화”</p>, <p class=\"cjs_dept_desc\">미국發 경기침체 공포 '증시 폭락'…최악의 블랙먼데이</p>, <p class=\"cjs_dept_desc\">[이슈플러스]'샴의법칙 또 맞나' 경기침체 공포 확산에…글로벌 자금 발작반응 “'빅컷'이냐 3회 인하냐”</p>, <p class=\"cjs_dept_desc\">[이슈플러스]美 경기 지표 악화에…비트코인 5만 달러 붕괴</p>, <p class=\"cjs_dept_desc\">코스피 2400선 대폭락...서킷브레이커 발동</p>, <p class=\"cjs_dept_desc\">누구를 위한 연임? 방심위 직원 설문 결과 류희림 \"반대\" 100%</p>, <p class=\"cjs_dept_desc\">'류희림 방심위' 연임 첫 의결은 입틀막 재연? \"선방위 추천단체 그대로\"</p>, <p class=\"cjs_dept_desc\">초유의 '류희림 3인 방심위', 법정제재 효력 없다?</p>, <p class=\"cjs_dept_desc\">'류희림 체제' 방심위·선방위 법정제재 29건 모두 집행정지</p>, <p class=\"cjs_dept_desc\">코스피·코스닥 급반등…매수 사이드카 발동</p>, <p class=\"cjs_dept_desc\">코스피 사상최대 폭락… 亞증시 ‘최악의 날’</p>, <p class=\"cjs_dept_desc\">뉴욕증시, 2년 만에 최대폭 급락…엔비디아 6.4%↓[딥다이브]</p>, <p class=\"cjs_dept_desc\">안전자산에 몰리는 돈… 비트코인 하루새 10% 급락</p>, <p class=\"cjs_dept_desc\">'최악의 날' 코스피, 8.8% 폭락… '역대 최대' 낙폭 기록</p>, <p class=\"cjs_dept_desc\">일본 닛케이지수 급락… 1987년 '블랙먼데이' 이후 두번째 큰 낙폭</p>, <p class=\"cjs_dept_desc\">\"한국 증시 살려라\" 금융당국, 긴급 시장점검회의 진행</p>]\n"
     ]
    }
   ],
   "source": [
    "import requests as req # requests 모듈 => 웹페이지를 요청하고 응답 데이터를 받을 수 있음.\n",
    "from bs4 import BeautifulSoup # BeautifulSoup => html 해석기\n",
    "\n",
    "response = req.get(\"https://news.naver.com/\")\n",
    "soup = BeautifulSoup(response.text, 'html.parser')\n",
    "\n",
    "# class를 통해 텍스트 가져오기\n",
    "title = soup.select(\".cjs_dept_desc\")\n",
    "print(title[1].text)"
   ]
  }
 ],
 "metadata": {
  "kernelspec": {
   "display_name": "Python 3",
   "language": "python",
   "name": "python3"
  },
  "language_info": {
   "codemirror_mode": {
    "name": "ipython",
    "version": 3
   },
   "file_extension": ".py",
   "mimetype": "text/x-python",
   "name": "python",
   "nbconvert_exporter": "python",
   "pygments_lexer": "ipython3",
   "version": "3.12.4"
  }
 },
 "nbformat": 4,
 "nbformat_minor": 2
}
